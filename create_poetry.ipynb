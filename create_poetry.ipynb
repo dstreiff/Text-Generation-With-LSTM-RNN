{
 "cells": [
  {
   "cell_type": "code",
   "execution_count": 2,
   "metadata": {},
   "outputs": [],
   "source": [
    "import tensorflow as tf\n",
    "\n",
    "from tensorflow.keras.preprocessing.sequence import pad_sequences\n",
    "from tensorflow.keras.layers import Embedding, LSTM, Dense, Bidirectional\n",
    "from tensorflow.keras.preprocessing.text import Tokenizer\n",
    "from tensorflow.keras.models import Sequential\n",
    "from tensorflow.keras.optimizers import Adam\n",
    "import numpy as np "
   ]
  },
  {
   "cell_type": "code",
   "execution_count": 5,
   "metadata": {},
   "outputs": [
    {
     "name": "stdout",
     "output_type": "stream",
     "text": [
      "2690\n"
     ]
    }
   ],
   "source": [
    "tokenizer = Tokenizer()\n",
    "\n",
    "data = open('dataset/irish-lyrics-eof.txt').read()\n",
    "\n",
    "corpus = data.lower().split(\"\\n\")\n",
    "\n",
    "tokenizer.fit_on_texts(corpus)\n",
    "total_words = len(tokenizer.word_index) + 1\n",
    "\n",
    "#print(tokenizer.word_index)\n",
    "print(total_words)"
   ]
  },
  {
   "cell_type": "code",
   "execution_count": 6,
   "metadata": {},
   "outputs": [],
   "source": [
    "input_sequences = []\n",
    "for line in corpus:\n",
    "\ttoken_list = tokenizer.texts_to_sequences([line])[0]\n",
    "\tfor i in range(1, len(token_list)):\n",
    "\t\tn_gram_sequence = token_list[:i+1]\n",
    "\t\tinput_sequences.append(n_gram_sequence)\n",
    "\n",
    "# pad sequences \n",
    "max_sequence_len = max([len(x) for x in input_sequences])\n",
    "input_sequences = np.array(pad_sequences(input_sequences, maxlen=max_sequence_len, padding='pre'))\n",
    "\n",
    "# create predictors and label\n",
    "xs, labels = input_sequences[:,:-1],input_sequences[:,-1]\n",
    "\n",
    "ys = tf.keras.utils.to_categorical(labels, num_classes=total_words)"
   ]
  },
  {
   "cell_type": "code",
   "execution_count": 8,
   "metadata": {},
   "outputs": [
    {
     "name": "stdout",
     "output_type": "stream",
     "text": [
      "8\n",
      "1\n",
      "71\n",
      "6\n",
      "713\n",
      "39\n",
      "1790\n",
      "1791\n"
     ]
    }
   ],
   "source": [
    "print(tokenizer.word_index['in'])\n",
    "print(tokenizer.word_index['the'])\n",
    "print(tokenizer.word_index['town'])\n",
    "print(tokenizer.word_index['of'])\n",
    "print(tokenizer.word_index['athy'])\n",
    "print(tokenizer.word_index['one'])\n",
    "print(tokenizer.word_index['jeremy'])\n",
    "print(tokenizer.word_index['lanigan'])"
   ]
  },
  {
   "cell_type": "code",
   "execution_count": 16,
   "metadata": {},
   "outputs": [
    {
     "name": "stdout",
     "output_type": "stream",
     "text": [
      "[ 0  0  0  0  0  0  0  0  0  0  0  0  0  2 11]\n",
      "[ 0  0  0  0  0  0  0  0  0  0  0  0  2 11 15]\n",
      "[0. 0. 0. ... 0. 0. 0.]\n",
      "1.0\n"
     ]
    }
   ],
   "source": [
    "print(xs[7])\n",
    "print(xs[8])\n",
    "print(ys[7])\n",
    "print(ys[7,15])"
   ]
  },
  {
   "cell_type": "code",
   "execution_count": 32,
   "metadata": {},
   "outputs": [
    {
     "name": "stdout",
     "output_type": "stream",
     "text": [
      "Epoch 1/15\n"
     ]
    },
    {
     "name": "stderr",
     "output_type": "stream",
     "text": [
      "C:\\Python39\\lib\\site-packages\\keras\\optimizer_v2\\adam.py:105: UserWarning: The `lr` argument is deprecated, use `learning_rate` instead.\n",
      "  super(Adam, self).__init__(name, **kwargs)\n"
     ]
    },
    {
     "name": "stdout",
     "output_type": "stream",
     "text": [
      "377/377 [==============================] - 11s 23ms/step - loss: 6.6345 - accuracy: 0.0733\n",
      "Epoch 2/15\n",
      "377/377 [==============================] - 9s 23ms/step - loss: 5.7742 - accuracy: 0.1153\n",
      "Epoch 3/15\n",
      "377/377 [==============================] - 9s 23ms/step - loss: 4.8786 - accuracy: 0.1666\n",
      "Epoch 4/15\n",
      "377/377 [==============================] - 8s 22ms/step - loss: 3.9651 - accuracy: 0.2373\n",
      "Epoch 5/15\n",
      "377/377 [==============================] - 9s 25ms/step - loss: 3.4063 - accuracy: 0.3140\n",
      "Epoch 6/15\n",
      "377/377 [==============================] - 9s 23ms/step - loss: 3.0808 - accuracy: 0.3591\n",
      "Epoch 7/15\n",
      "377/377 [==============================] - 9s 23ms/step - loss: 2.2513 - accuracy: 0.4822\n",
      "Epoch 8/15\n",
      "377/377 [==============================] - 9s 23ms/step - loss: 1.8324 - accuracy: 0.5649\n",
      "Epoch 9/15\n",
      "377/377 [==============================] - 9s 23ms/step - loss: 1.5150 - accuracy: 0.6371\n",
      "Epoch 10/15\n",
      "377/377 [==============================] - 9s 23ms/step - loss: 1.2928 - accuracy: 0.6868\n",
      "Epoch 11/15\n",
      "377/377 [==============================] - 9s 23ms/step - loss: 1.1656 - accuracy: 0.7212\n",
      "Epoch 12/15\n",
      "377/377 [==============================] - 9s 23ms/step - loss: 1.1028 - accuracy: 0.7320\n",
      "Epoch 13/15\n",
      "377/377 [==============================] - 9s 23ms/step - loss: 1.1236 - accuracy: 0.7240\n",
      "Epoch 14/15\n",
      "377/377 [==============================] - 9s 23ms/step - loss: 1.1918 - accuracy: 0.6986\n",
      "Epoch 15/15\n",
      "377/377 [==============================] - 9s 23ms/step - loss: 1.3540 - accuracy: 0.6595\n",
      "<keras.engine.sequential.Sequential object at 0x000002443641D040>\n"
     ]
    }
   ],
   "source": [
    "model = Sequential()\n",
    "model.add(Embedding(total_words, 100, input_length=max_sequence_len-1))\n",
    "model.add(Bidirectional(LSTM(150)))\n",
    "model.add(Dense(total_words, activation='softmax'))\n",
    "adam = Adam(lr=0.01)\n",
    "model.compile(loss='categorical_crossentropy', optimizer=adam, metrics=['accuracy'])\n",
    "#earlystop = EarlyStopping(monitor='val_loss', min_delta=0, patience=5, verbose=0, mode='auto')\n",
    "history = model.fit(xs, ys, epochs=15, verbose=1)\n",
    "#print model.summary()\n",
    "print(model)"
   ]
  },
  {
   "cell_type": "code",
   "execution_count": 34,
   "metadata": {},
   "outputs": [],
   "source": [
    "import matplotlib.pyplot as plt\n",
    "\n",
    "\n",
    "def plot_graphs(history, string):\n",
    "  plt.plot(history.history[string])\n",
    "  plt.xlabel(\"Epochs\")\n",
    "  plt.ylabel(string)\n",
    "  plt.show()"
   ]
  },
  {
   "cell_type": "code",
   "execution_count": 35,
   "metadata": {},
   "outputs": [
    {
     "data": {
      "image/png": "[encoded data removed]",
      "text/plain": [
       "<Figure size 432x288 with 1 Axes>"
      ]
     },
     "metadata": {
      "needs_background": "light"
     },
     "output_type": "display_data"
    }
   ],
   "source": [
    "plot_graphs(history, 'accuracy')"
   ]
  },
  {
   "cell_type": "code",
   "execution_count": 38,
   "metadata": {},
   "outputs": [
    {
     "name": "stdout",
     "output_type": "stream",
     "text": [
      "Yesterday I met a cabin found for paddy never turn to the dead winds of my first morn in this i went to her house in vogue on the rocky road to dublin town today tree to tree in love grows or water is hunt the cornwall wall miss room most room would me deny when more games girded on tree tree tree tree to tree more tree tree to tree tree tree tree tree to shoes solace wearin all kinds of nonsensical polkas and drawn there or writin in love my mind being love they love me right than miss stout\n"
     ]
    }
   ],
   "source": [
    "seed_text = \"Yesterday I\"\n",
    "next_words = 100\n",
    "  \n",
    "for _ in range(next_words):\n",
    "\ttoken_list = tokenizer.texts_to_sequences([seed_text])[0]\n",
    "\ttoken_list = pad_sequences([token_list], maxlen=max_sequence_len-1, padding='pre')\n",
    "\tpredicted = model.predict(token_list, verbose=0)\n",
    "\tpredicted_index = np.argmax(predicted)\n",
    "\toutput_word = \"\"\n",
    "\tfor word, index in tokenizer.word_index.items():\n",
    "\t\tif index == predicted_index:\n",
    "\t\t\toutput_word = word\n",
    "\t\t\tbreak\n",
    "\tseed_text += \" \" + output_word\n",
    "print(seed_text)"
   ]
  }
 ],
 "metadata": {
  "interpreter": {
   "hash": "3ce6414ac322014f33d955be09fb5b8545cf32d43fae728165ba3706e4e58fb0"
  },
  "kernelspec": {
   "display_name": "Python 3.8.5 ('base')",
   "language": "python",
   "name": "python3"
  },
  "language_info": {
   "codemirror_mode": {
    "name": "ipython",
    "version": 3
   },
   "file_extension": ".py",
   "mimetype": "text/x-python",
   "name": "python",
   "nbconvert_exporter": "python",
   "pygments_lexer": "ipython3",
   "version": "3.9.4"
  },
  "orig_nbformat": 4
 },
 "nbformat": 4,
 "nbformat_minor": 2
}
