{
 "cells": [
  {
   "cell_type": "code",
   "execution_count": 1,
   "metadata": {},
   "outputs": [],
   "source": [
    "import tensorflow as tf\n",
    "\n",
    "from tensorflow.keras.preprocessing.sequence import pad_sequences\n",
    "from tensorflow.keras.layers import Embedding, LSTM, Dense, Bidirectional\n",
    "from tensorflow.keras.preprocessing.text import Tokenizer\n",
    "from tensorflow.keras.models import Sequential\n",
    "from tensorflow.keras.optimizers import Adam\n",
    "import numpy as np "
   ]
  },
  {
   "cell_type": "code",
   "execution_count": 3,
   "metadata": {},
   "outputs": [
    {
     "name": "stdout",
     "output_type": "stream",
     "text": [
      "2690\n"
     ]
    }
   ],
   "source": [
    "tokenizer = Tokenizer()\n",
    "\n",
    "data = open('dataset/irish-lyrics-eof.txt').read()\n",
    "\n",
    "corpus = data.lower().split(\"\\n\")\n",
    "\n",
    "tokenizer.fit_on_texts(corpus)\n",
    "total_words = len(tokenizer.word_index) + 1\n",
    "\n",
    "#print(tokenizer.word_index)\n",
    "print(total_words)"
   ]
  },
  {
   "cell_type": "code",
   "execution_count": 4,
   "metadata": {},
   "outputs": [],
   "source": [
    "input_sequences = []\n",
    "for line in corpus:\n",
    "\ttoken_list = tokenizer.texts_to_sequences([line])[0]\n",
    "\tfor i in range(1, len(token_list)):\n",
    "\t\tn_gram_sequence = token_list[:i+1]\n",
    "\t\tinput_sequences.append(n_gram_sequence)\n",
    "\n",
    "# pad sequences \n",
    "max_sequence_len = max([len(x) for x in input_sequences])\n",
    "input_sequences = np.array(pad_sequences(input_sequences, maxlen=max_sequence_len, padding='pre'))\n",
    "\n",
    "# create predictors and label\n",
    "xs, labels = input_sequences[:,:-1],input_sequences[:,-1]\n",
    "\n",
    "ys = tf.keras.utils.to_categorical(labels, num_classes=total_words)"
   ]
  },
  {
   "cell_type": "code",
   "execution_count": 5,
   "metadata": {},
   "outputs": [
    {
     "name": "stdout",
     "output_type": "stream",
     "text": [
      "8\n",
      "1\n",
      "71\n",
      "6\n",
      "713\n",
      "39\n",
      "1790\n",
      "1791\n"
     ]
    }
   ],
   "source": [
    "print(tokenizer.word_index['in'])\n",
    "print(tokenizer.word_index['the'])\n",
    "print(tokenizer.word_index['town'])\n",
    "print(tokenizer.word_index['of'])\n",
    "print(tokenizer.word_index['athy'])\n",
    "print(tokenizer.word_index['one'])\n",
    "print(tokenizer.word_index['jeremy'])\n",
    "print(tokenizer.word_index['lanigan'])"
   ]
  },
  {
   "cell_type": "code",
   "execution_count": 6,
   "metadata": {},
   "outputs": [
    {
     "name": "stdout",
     "output_type": "stream",
     "text": [
      "[ 0  0  0  0  0  0  0  0  0  0  0  0  0  2 11]\n",
      "[ 0  0  0  0  0  0  0  0  0  0  0  0  2 11 15]\n",
      "[0. 0. 0. ... 0. 0. 0.]\n",
      "1.0\n"
     ]
    }
   ],
   "source": [
    "print(xs[7])\n",
    "print(xs[8])\n",
    "print(ys[7])\n",
    "print(ys[7,15])"
   ]
  },
  {
   "cell_type": "code",
   "execution_count": 8,
   "metadata": {},
   "outputs": [
    {
     "name": "stdout",
     "output_type": "stream",
     "text": [
      "Epoch 1/18\n",
      "377/377 [==============================] - 12s 23ms/step - loss: 6.6659 - accuracy: 0.0705\n",
      "Epoch 2/18\n",
      "377/377 [==============================] - 9s 23ms/step - loss: 5.7674 - accuracy: 0.1190\n",
      "Epoch 3/18\n",
      "377/377 [==============================] - 9s 24ms/step - loss: 4.8637 - accuracy: 0.1676\n",
      "Epoch 4/18\n",
      "377/377 [==============================] - 9s 24ms/step - loss: 3.9441 - accuracy: 0.2344\n",
      "Epoch 5/18\n",
      "377/377 [==============================] - 9s 24ms/step - loss: 3.1010 - accuracy: 0.3372\n",
      "Epoch 6/18\n",
      "377/377 [==============================] - 8s 22ms/step - loss: 2.4259 - accuracy: 0.4509\n",
      "Epoch 7/18\n",
      "377/377 [==============================] - 8s 22ms/step - loss: 1.9616 - accuracy: 0.5428\n",
      "Epoch 8/18\n",
      "377/377 [==============================] - 8s 22ms/step - loss: 1.5921 - accuracy: 0.6227\n",
      "Epoch 9/18\n",
      "377/377 [==============================] - 9s 23ms/step - loss: 1.3767 - accuracy: 0.6642\n",
      "Epoch 10/18\n",
      "377/377 [==============================] - 9s 23ms/step - loss: 1.2249 - accuracy: 0.7001\n",
      "Epoch 11/18\n",
      "377/377 [==============================] - 9s 23ms/step - loss: 1.1236 - accuracy: 0.7234\n",
      "Epoch 12/18\n",
      "377/377 [==============================] - 9s 23ms/step - loss: 1.0449 - accuracy: 0.7422\n",
      "Epoch 13/18\n",
      "377/377 [==============================] - 9s 23ms/step - loss: 1.0193 - accuracy: 0.7452\n",
      "Epoch 14/18\n",
      "377/377 [==============================] - 9s 25ms/step - loss: 1.0493 - accuracy: 0.7324\n",
      "Epoch 15/18\n",
      "377/377 [==============================] - 9s 23ms/step - loss: 1.1104 - accuracy: 0.7149\n",
      "Epoch 16/18\n",
      "377/377 [==============================] - 9s 23ms/step - loss: 1.1291 - accuracy: 0.7103\n",
      "Epoch 17/18\n",
      "377/377 [==============================] - 9s 23ms/step - loss: 1.0457 - accuracy: 0.7276\n",
      "Epoch 18/18\n",
      "377/377 [==============================] - 9s 23ms/step - loss: 0.9364 - accuracy: 0.7584\n",
      "<keras.engine.sequential.Sequential object at 0x00000203BB11F460>\n"
     ]
    }
   ],
   "source": [
    "model = Sequential()\n",
    "model.add(Embedding(total_words, 100, input_length=max_sequence_len-1))\n",
    "model.add(Bidirectional(LSTM(150)))\n",
    "model.add(Dense(total_words, activation='softmax'))\n",
    "adam = Adam(lr=0.01)\n",
    "model.compile(loss='categorical_crossentropy', optimizer=adam, metrics=['accuracy'])\n",
    "#earlystop = EarlyStopping(monitor='val_loss', min_delta=0, patience=5, verbose=0, mode='auto')\n",
    "history = model.fit(xs, ys, epochs=18, verbose=1)\n",
    "#print model.summary()\n",
    "print(model)"
   ]
  },
  {
   "cell_type": "code",
   "execution_count": 9,
   "metadata": {},
   "outputs": [],
   "source": [
    "import matplotlib.pyplot as plt\n",
    "\n",
    "\n",
    "def plot_graphs(history, string):\n",
    "  plt.plot(history.history[string])\n",
    "  plt.xlabel(\"Epochs\")\n",
    "  plt.ylabel(string)\n",
    "  plt.show()"
   ]
  },
  {
   "cell_type": "code",
   "execution_count": 10,
   "metadata": {},
   "outputs": [
    {
     "data": {
      "image/png": "[encoded data removed]",
      "text/plain": [
       "<Figure size 432x288 with 1 Axes>"
      ]
     },
     "metadata": {
      "needs_background": "light"
     },
     "output_type": "display_data"
    }
   ],
   "source": [
    "plot_graphs(history, 'accuracy')"
   ]
  },
  {
   "cell_type": "code",
   "execution_count": 11,
   "metadata": {},
   "outputs": [
    {
     "name": "stdout",
     "output_type": "stream",
     "text": [
      "Yesterday I heard a young man calling heard cry of the foaming main the bold peek trace old skibbereen the green daylight loud out gone and gone gone and gone gone and gone and gone and sea may trace far above as gone on eyes on their eyes gone gone and sea call gone daylight youth must falling gone and gone gone and gone and gone and sea call youth are thine gone and gone gone and gone and gone and gone and gone and gone and gone and gone and gone and gone and gone and gone and gone and gone\n"
     ]
    }
   ],
   "source": [
    "seed_text = \"Yesterday I\"\n",
    "next_words = 100\n",
    "  \n",
    "for _ in range(next_words):\n",
    "\ttoken_list = tokenizer.texts_to_sequences([seed_text])[0]\n",
    "\ttoken_list = pad_sequences([token_list], maxlen=max_sequence_len-1, padding='pre')\n",
    "\tpredicted = model.predict(token_list, verbose=0)\n",
    "\tpredicted_index = np.argmax(predicted)\n",
    "\toutput_word = \"\"\n",
    "\tfor word, index in tokenizer.word_index.items():\n",
    "\t\tif index == predicted_index:\n",
    "\t\t\toutput_word = word\n",
    "\t\t\tbreak\n",
    "\tseed_text += \" \" + output_word\n",
    "print(seed_text)"
   ]
  }
 ],
 "metadata": {
  "interpreter": {
   "hash": "3ce6414ac322014f33d955be09fb5b8545cf32d43fae728165ba3706e4e58fb0"
  },
  "kernelspec": {
   "display_name": "Python 3.8.5 ('base')",
   "language": "python",
   "name": "python3"
  },
  "language_info": {
   "codemirror_mode": {
    "name": "ipython",
    "version": 3
   },
   "file_extension": ".py",
   "mimetype": "text/x-python",
   "name": "python",
   "nbconvert_exporter": "python",
   "pygments_lexer": "ipython3",
   "version": "3.9.4"
  },
  "orig_nbformat": 4
 },
 "nbformat": 4,
 "nbformat_minor": 2
}
